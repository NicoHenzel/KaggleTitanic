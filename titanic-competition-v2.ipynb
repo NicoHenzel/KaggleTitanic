{
 "cells": [
  {
   "cell_type": "markdown",
   "id": "a0544737",
   "metadata": {
    "papermill": {
     "duration": 0.006625,
     "end_time": "2022-11-06T19:01:26.954830",
     "exception": false,
     "start_time": "2022-11-06T19:01:26.948205",
     "status": "completed"
    },
    "tags": []
   },
   "source": [
    "# Load Data"
   ]
  },
  {
   "cell_type": "code",
   "execution_count": 1,
   "id": "411f2c91",
   "metadata": {
    "_cell_guid": "b1076dfc-b9ad-4769-8c92-a6c4dae69d19",
    "_uuid": "8f2839f25d086af736a60e9eeb907d3b93b6e0e5",
    "execution": {
     "iopub.execute_input": "2022-11-06T19:01:26.967913Z",
     "iopub.status.busy": "2022-11-06T19:01:26.967405Z",
     "iopub.status.idle": "2022-11-06T19:01:26.981800Z",
     "shell.execute_reply": "2022-11-06T19:01:26.980351Z"
    },
    "papermill": {
     "duration": 0.025834,
     "end_time": "2022-11-06T19:01:26.986110",
     "exception": false,
     "start_time": "2022-11-06T19:01:26.960276",
     "status": "completed"
    },
    "tags": []
   },
   "outputs": [
    {
     "name": "stdout",
     "output_type": "stream",
     "text": [
      "/kaggle/input/titanic/train.csv\n",
      "/kaggle/input/titanic/test.csv\n",
      "/kaggle/input/titanic/gender_submission.csv\n"
     ]
    }
   ],
   "source": [
    "# This Python 3 environment comes with many helpful analytics libraries installed\n",
    "# It is defined by the kaggle/python Docker image: https://github.com/kaggle/docker-python\n",
    "# For example, here's several helpful packages to load\n",
    "\n",
    "import numpy as np # linear algebra\n",
    "import pandas as pd # data processing, CSV file I/O (e.g. pd.read_csv)\n",
    "\n",
    "# Input data files are available in the read-only \"../input/\" directory\n",
    "# For example, running this (by clicking run or pressing Shift+Enter) will list all files under the input directory\n",
    "\n",
    "import os\n",
    "for dirname, _, filenames in os.walk('/kaggle/input'):\n",
    "    for filename in filenames:\n",
    "        print(os.path.join(dirname, filename))\n",
    "\n",
    "# You can write up to 20GB to the current directory (/kaggle/working/) that gets preserved as output when you create a version using \"Save & Run All\" \n",
    "# You can also write temporary files to /kaggle/temp/, but they won't be saved outside of the current session"
   ]
  },
  {
   "cell_type": "code",
   "execution_count": 2,
   "id": "e059f7fd",
   "metadata": {
    "execution": {
     "iopub.execute_input": "2022-11-06T19:01:26.999741Z",
     "iopub.status.busy": "2022-11-06T19:01:26.998668Z",
     "iopub.status.idle": "2022-11-06T19:01:27.055971Z",
     "shell.execute_reply": "2022-11-06T19:01:27.054303Z"
    },
    "papermill": {
     "duration": 0.067141,
     "end_time": "2022-11-06T19:01:27.059028",
     "exception": false,
     "start_time": "2022-11-06T19:01:26.991887",
     "status": "completed"
    },
    "tags": []
   },
   "outputs": [
    {
     "data": {
      "text/html": [
       "<div>\n",
       "<style scoped>\n",
       "    .dataframe tbody tr th:only-of-type {\n",
       "        vertical-align: middle;\n",
       "    }\n",
       "\n",
       "    .dataframe tbody tr th {\n",
       "        vertical-align: top;\n",
       "    }\n",
       "\n",
       "    .dataframe thead th {\n",
       "        text-align: right;\n",
       "    }\n",
       "</style>\n",
       "<table border=\"1\" class=\"dataframe\">\n",
       "  <thead>\n",
       "    <tr style=\"text-align: right;\">\n",
       "      <th></th>\n",
       "      <th>PassengerId</th>\n",
       "      <th>Survived</th>\n",
       "      <th>Pclass</th>\n",
       "      <th>Name</th>\n",
       "      <th>Sex</th>\n",
       "      <th>Age</th>\n",
       "      <th>SibSp</th>\n",
       "      <th>Parch</th>\n",
       "      <th>Ticket</th>\n",
       "      <th>Fare</th>\n",
       "      <th>Cabin</th>\n",
       "      <th>Embarked</th>\n",
       "    </tr>\n",
       "  </thead>\n",
       "  <tbody>\n",
       "    <tr>\n",
       "      <th>0</th>\n",
       "      <td>1</td>\n",
       "      <td>0</td>\n",
       "      <td>3</td>\n",
       "      <td>Braund, Mr. Owen Harris</td>\n",
       "      <td>male</td>\n",
       "      <td>22.0</td>\n",
       "      <td>1</td>\n",
       "      <td>0</td>\n",
       "      <td>A/5 21171</td>\n",
       "      <td>7.2500</td>\n",
       "      <td>NaN</td>\n",
       "      <td>S</td>\n",
       "    </tr>\n",
       "    <tr>\n",
       "      <th>1</th>\n",
       "      <td>2</td>\n",
       "      <td>1</td>\n",
       "      <td>1</td>\n",
       "      <td>Cumings, Mrs. John Bradley (Florence Briggs Th...</td>\n",
       "      <td>female</td>\n",
       "      <td>38.0</td>\n",
       "      <td>1</td>\n",
       "      <td>0</td>\n",
       "      <td>PC 17599</td>\n",
       "      <td>71.2833</td>\n",
       "      <td>C85</td>\n",
       "      <td>C</td>\n",
       "    </tr>\n",
       "    <tr>\n",
       "      <th>2</th>\n",
       "      <td>3</td>\n",
       "      <td>1</td>\n",
       "      <td>3</td>\n",
       "      <td>Heikkinen, Miss. Laina</td>\n",
       "      <td>female</td>\n",
       "      <td>26.0</td>\n",
       "      <td>0</td>\n",
       "      <td>0</td>\n",
       "      <td>STON/O2. 3101282</td>\n",
       "      <td>7.9250</td>\n",
       "      <td>NaN</td>\n",
       "      <td>S</td>\n",
       "    </tr>\n",
       "    <tr>\n",
       "      <th>3</th>\n",
       "      <td>4</td>\n",
       "      <td>1</td>\n",
       "      <td>1</td>\n",
       "      <td>Futrelle, Mrs. Jacques Heath (Lily May Peel)</td>\n",
       "      <td>female</td>\n",
       "      <td>35.0</td>\n",
       "      <td>1</td>\n",
       "      <td>0</td>\n",
       "      <td>113803</td>\n",
       "      <td>53.1000</td>\n",
       "      <td>C123</td>\n",
       "      <td>S</td>\n",
       "    </tr>\n",
       "    <tr>\n",
       "      <th>4</th>\n",
       "      <td>5</td>\n",
       "      <td>0</td>\n",
       "      <td>3</td>\n",
       "      <td>Allen, Mr. William Henry</td>\n",
       "      <td>male</td>\n",
       "      <td>35.0</td>\n",
       "      <td>0</td>\n",
       "      <td>0</td>\n",
       "      <td>373450</td>\n",
       "      <td>8.0500</td>\n",
       "      <td>NaN</td>\n",
       "      <td>S</td>\n",
       "    </tr>\n",
       "  </tbody>\n",
       "</table>\n",
       "</div>"
      ],
      "text/plain": [
       "   PassengerId  Survived  Pclass  \\\n",
       "0            1         0       3   \n",
       "1            2         1       1   \n",
       "2            3         1       3   \n",
       "3            4         1       1   \n",
       "4            5         0       3   \n",
       "\n",
       "                                                Name     Sex   Age  SibSp  \\\n",
       "0                            Braund, Mr. Owen Harris    male  22.0      1   \n",
       "1  Cumings, Mrs. John Bradley (Florence Briggs Th...  female  38.0      1   \n",
       "2                             Heikkinen, Miss. Laina  female  26.0      0   \n",
       "3       Futrelle, Mrs. Jacques Heath (Lily May Peel)  female  35.0      1   \n",
       "4                           Allen, Mr. William Henry    male  35.0      0   \n",
       "\n",
       "   Parch            Ticket     Fare Cabin Embarked  \n",
       "0      0         A/5 21171   7.2500   NaN        S  \n",
       "1      0          PC 17599  71.2833   C85        C  \n",
       "2      0  STON/O2. 3101282   7.9250   NaN        S  \n",
       "3      0            113803  53.1000  C123        S  \n",
       "4      0            373450   8.0500   NaN        S  "
      ]
     },
     "execution_count": 2,
     "metadata": {},
     "output_type": "execute_result"
    }
   ],
   "source": [
    "train_data = pd.read_csv(\"/kaggle/input/titanic/train.csv\")\n",
    "train_data.head()"
   ]
  },
  {
   "cell_type": "code",
   "execution_count": 3,
   "id": "902853fa",
   "metadata": {
    "execution": {
     "iopub.execute_input": "2022-11-06T19:01:27.072472Z",
     "iopub.status.busy": "2022-11-06T19:01:27.071986Z",
     "iopub.status.idle": "2022-11-06T19:01:27.100239Z",
     "shell.execute_reply": "2022-11-06T19:01:27.098616Z"
    },
    "papermill": {
     "duration": 0.039562,
     "end_time": "2022-11-06T19:01:27.104081",
     "exception": false,
     "start_time": "2022-11-06T19:01:27.064519",
     "status": "completed"
    },
    "tags": []
   },
   "outputs": [
    {
     "data": {
      "text/html": [
       "<div>\n",
       "<style scoped>\n",
       "    .dataframe tbody tr th:only-of-type {\n",
       "        vertical-align: middle;\n",
       "    }\n",
       "\n",
       "    .dataframe tbody tr th {\n",
       "        vertical-align: top;\n",
       "    }\n",
       "\n",
       "    .dataframe thead th {\n",
       "        text-align: right;\n",
       "    }\n",
       "</style>\n",
       "<table border=\"1\" class=\"dataframe\">\n",
       "  <thead>\n",
       "    <tr style=\"text-align: right;\">\n",
       "      <th></th>\n",
       "      <th>PassengerId</th>\n",
       "      <th>Pclass</th>\n",
       "      <th>Name</th>\n",
       "      <th>Sex</th>\n",
       "      <th>Age</th>\n",
       "      <th>SibSp</th>\n",
       "      <th>Parch</th>\n",
       "      <th>Ticket</th>\n",
       "      <th>Fare</th>\n",
       "      <th>Cabin</th>\n",
       "      <th>Embarked</th>\n",
       "    </tr>\n",
       "  </thead>\n",
       "  <tbody>\n",
       "    <tr>\n",
       "      <th>0</th>\n",
       "      <td>892</td>\n",
       "      <td>3</td>\n",
       "      <td>Kelly, Mr. James</td>\n",
       "      <td>male</td>\n",
       "      <td>34.5</td>\n",
       "      <td>0</td>\n",
       "      <td>0</td>\n",
       "      <td>330911</td>\n",
       "      <td>7.8292</td>\n",
       "      <td>NaN</td>\n",
       "      <td>Q</td>\n",
       "    </tr>\n",
       "    <tr>\n",
       "      <th>1</th>\n",
       "      <td>893</td>\n",
       "      <td>3</td>\n",
       "      <td>Wilkes, Mrs. James (Ellen Needs)</td>\n",
       "      <td>female</td>\n",
       "      <td>47.0</td>\n",
       "      <td>1</td>\n",
       "      <td>0</td>\n",
       "      <td>363272</td>\n",
       "      <td>7.0000</td>\n",
       "      <td>NaN</td>\n",
       "      <td>S</td>\n",
       "    </tr>\n",
       "    <tr>\n",
       "      <th>2</th>\n",
       "      <td>894</td>\n",
       "      <td>2</td>\n",
       "      <td>Myles, Mr. Thomas Francis</td>\n",
       "      <td>male</td>\n",
       "      <td>62.0</td>\n",
       "      <td>0</td>\n",
       "      <td>0</td>\n",
       "      <td>240276</td>\n",
       "      <td>9.6875</td>\n",
       "      <td>NaN</td>\n",
       "      <td>Q</td>\n",
       "    </tr>\n",
       "    <tr>\n",
       "      <th>3</th>\n",
       "      <td>895</td>\n",
       "      <td>3</td>\n",
       "      <td>Wirz, Mr. Albert</td>\n",
       "      <td>male</td>\n",
       "      <td>27.0</td>\n",
       "      <td>0</td>\n",
       "      <td>0</td>\n",
       "      <td>315154</td>\n",
       "      <td>8.6625</td>\n",
       "      <td>NaN</td>\n",
       "      <td>S</td>\n",
       "    </tr>\n",
       "    <tr>\n",
       "      <th>4</th>\n",
       "      <td>896</td>\n",
       "      <td>3</td>\n",
       "      <td>Hirvonen, Mrs. Alexander (Helga E Lindqvist)</td>\n",
       "      <td>female</td>\n",
       "      <td>22.0</td>\n",
       "      <td>1</td>\n",
       "      <td>1</td>\n",
       "      <td>3101298</td>\n",
       "      <td>12.2875</td>\n",
       "      <td>NaN</td>\n",
       "      <td>S</td>\n",
       "    </tr>\n",
       "  </tbody>\n",
       "</table>\n",
       "</div>"
      ],
      "text/plain": [
       "   PassengerId  Pclass                                          Name     Sex  \\\n",
       "0          892       3                              Kelly, Mr. James    male   \n",
       "1          893       3              Wilkes, Mrs. James (Ellen Needs)  female   \n",
       "2          894       2                     Myles, Mr. Thomas Francis    male   \n",
       "3          895       3                              Wirz, Mr. Albert    male   \n",
       "4          896       3  Hirvonen, Mrs. Alexander (Helga E Lindqvist)  female   \n",
       "\n",
       "    Age  SibSp  Parch   Ticket     Fare Cabin Embarked  \n",
       "0  34.5      0      0   330911   7.8292   NaN        Q  \n",
       "1  47.0      1      0   363272   7.0000   NaN        S  \n",
       "2  62.0      0      0   240276   9.6875   NaN        Q  \n",
       "3  27.0      0      0   315154   8.6625   NaN        S  \n",
       "4  22.0      1      1  3101298  12.2875   NaN        S  "
      ]
     },
     "execution_count": 3,
     "metadata": {},
     "output_type": "execute_result"
    }
   ],
   "source": [
    "test_data = pd.read_csv(\"/kaggle/input/titanic/test.csv\")\n",
    "test_data.head()"
   ]
  },
  {
   "cell_type": "markdown",
   "id": "619fcd45",
   "metadata": {
    "papermill": {
     "duration": 0.005797,
     "end_time": "2022-11-06T19:01:27.116942",
     "exception": false,
     "start_time": "2022-11-06T19:01:27.111145",
     "status": "completed"
    },
    "tags": []
   },
   "source": [
    "# Data Exploration"
   ]
  },
  {
   "cell_type": "markdown",
   "id": "56365960",
   "metadata": {
    "papermill": {
     "duration": 0.005729,
     "end_time": "2022-11-06T19:01:27.128603",
     "exception": false,
     "start_time": "2022-11-06T19:01:27.122874",
     "status": "completed"
    },
    "tags": []
   },
   "source": [
    "#### To Do:\n",
    "\n",
    "* see report in R to get roadmap\n",
    "* check other submissions for inspiration\n",
    "* visualize data\n",
    "* show correlation\n",
    "* gain background information"
   ]
  },
  {
   "cell_type": "code",
   "execution_count": 4,
   "id": "021048a1",
   "metadata": {
    "execution": {
     "iopub.execute_input": "2022-11-06T19:01:27.142672Z",
     "iopub.status.busy": "2022-11-06T19:01:27.142183Z",
     "iopub.status.idle": "2022-11-06T19:01:27.148663Z",
     "shell.execute_reply": "2022-11-06T19:01:27.146942Z"
    },
    "papermill": {
     "duration": 0.016989,
     "end_time": "2022-11-06T19:01:27.151560",
     "exception": false,
     "start_time": "2022-11-06T19:01:27.134571",
     "status": "completed"
    },
    "tags": []
   },
   "outputs": [],
   "source": [
    "# Make a copy of the training set, in order to perform data exploration\n",
    "explore_data = train_data"
   ]
  },
  {
   "cell_type": "markdown",
   "id": "feefce08",
   "metadata": {
    "papermill": {
     "duration": 0.005513,
     "end_time": "2022-11-06T19:01:27.163492",
     "exception": false,
     "start_time": "2022-11-06T19:01:27.157979",
     "status": "completed"
    },
    "tags": []
   },
   "source": [
    "# Modeling"
   ]
  },
  {
   "cell_type": "markdown",
   "id": "83d5b283",
   "metadata": {
    "papermill": {
     "duration": 0.005537,
     "end_time": "2022-11-06T19:01:27.175359",
     "exception": false,
     "start_time": "2022-11-06T19:01:27.169822",
     "status": "completed"
    },
    "tags": []
   },
   "source": [
    "## Naive Guess"
   ]
  },
  {
   "cell_type": "code",
   "execution_count": 5,
   "id": "697359d1",
   "metadata": {
    "execution": {
     "iopub.execute_input": "2022-11-06T19:01:27.189241Z",
     "iopub.status.busy": "2022-11-06T19:01:27.188756Z",
     "iopub.status.idle": "2022-11-06T19:01:27.205319Z",
     "shell.execute_reply": "2022-11-06T19:01:27.203774Z"
    },
    "papermill": {
     "duration": 0.026717,
     "end_time": "2022-11-06T19:01:27.207957",
     "exception": false,
     "start_time": "2022-11-06T19:01:27.181240",
     "status": "completed"
    },
    "tags": []
   },
   "outputs": [
    {
     "name": "stdout",
     "output_type": "stream",
     "text": [
      "% of women who survived: 0.7420382165605095\n"
     ]
    }
   ],
   "source": [
    "women = train_data.loc[train_data['Sex'] == 'female'][\"Survived\"]\n",
    "rate_women = sum(women)/len(women)\n",
    "\n",
    "print(\"% of women who survived:\", rate_women)"
   ]
  },
  {
   "cell_type": "code",
   "execution_count": 6,
   "id": "6cf3a845",
   "metadata": {
    "execution": {
     "iopub.execute_input": "2022-11-06T19:01:27.224124Z",
     "iopub.status.busy": "2022-11-06T19:01:27.223447Z",
     "iopub.status.idle": "2022-11-06T19:01:27.235350Z",
     "shell.execute_reply": "2022-11-06T19:01:27.232963Z"
    },
    "papermill": {
     "duration": 0.023559,
     "end_time": "2022-11-06T19:01:27.239295",
     "exception": false,
     "start_time": "2022-11-06T19:01:27.215736",
     "status": "completed"
    },
    "tags": []
   },
   "outputs": [
    {
     "name": "stdout",
     "output_type": "stream",
     "text": [
      "% of men who survived: 0.18890814558058924\n"
     ]
    }
   ],
   "source": [
    "men = train_data.loc[train_data.Sex == 'male']['Survived']\n",
    "rate_men = sum(men)/len(men)\n",
    "\n",
    "print(\"% of men who survived:\", rate_men)"
   ]
  },
  {
   "cell_type": "markdown",
   "id": "f6010e81",
   "metadata": {
    "papermill": {
     "duration": 0.006114,
     "end_time": "2022-11-06T19:01:27.251788",
     "exception": false,
     "start_time": "2022-11-06T19:01:27.245674",
     "status": "completed"
    },
    "tags": []
   },
   "source": [
    "* This means that a naive guess, only taking the gender into account, already gives us a rate of roughly 75% of predicting whether a passenger survives or not. \n",
    "* Our model needs to perform better than this to be considered successful"
   ]
  },
  {
   "cell_type": "markdown",
   "id": "bd4b8816",
   "metadata": {
    "execution": {
     "iopub.execute_input": "2022-11-06T18:32:28.975981Z",
     "iopub.status.busy": "2022-11-06T18:32:28.975553Z",
     "iopub.status.idle": "2022-11-06T18:32:28.980654Z",
     "shell.execute_reply": "2022-11-06T18:32:28.979775Z",
     "shell.execute_reply.started": "2022-11-06T18:32:28.975932Z"
    },
    "papermill": {
     "duration": 0.006326,
     "end_time": "2022-11-06T19:01:27.264311",
     "exception": false,
     "start_time": "2022-11-06T19:01:27.257985",
     "status": "completed"
    },
    "tags": []
   },
   "source": [
    "## Random Forest"
   ]
  },
  {
   "cell_type": "code",
   "execution_count": 7,
   "id": "c97b77e8",
   "metadata": {
    "execution": {
     "iopub.execute_input": "2022-11-06T19:01:27.279243Z",
     "iopub.status.busy": "2022-11-06T19:01:27.278562Z",
     "iopub.status.idle": "2022-11-06T19:01:29.019137Z",
     "shell.execute_reply": "2022-11-06T19:01:29.017695Z"
    },
    "papermill": {
     "duration": 1.751565,
     "end_time": "2022-11-06T19:01:29.022362",
     "exception": false,
     "start_time": "2022-11-06T19:01:27.270797",
     "status": "completed"
    },
    "tags": []
   },
   "outputs": [],
   "source": [
    "from sklearn.ensemble import RandomForestClassifier\n",
    "\n",
    "# define label vector\n",
    "y = train_data[\"Survived\"]\n",
    "\n",
    "# define evaluation matrices\n",
    "features = [\"Pclass\", \"Sex\", \"SibSp\", \"Parch\"]\n",
    "# training matrix\n",
    "X = pd.get_dummies(train_data[features])\n",
    "# test matrix\n",
    "X_test = pd.get_dummies(test_data[features])\n",
    "\n",
    "# fit model\n",
    "model = RandomForestClassifier(n_estimators=100, max_depth=5, random_state=1)\n",
    "model.fit(X, y)\n",
    "\n",
    "# run model on test data\n",
    "rf_predictions = model.predict(X_test)\n",
    "\n",
    "\n",
    "\n",
    "# Generate a Confusion Matrix to show results"
   ]
  },
  {
   "cell_type": "markdown",
   "id": "b381017a",
   "metadata": {
    "papermill": {
     "duration": 0.005305,
     "end_time": "2022-11-06T19:01:29.033653",
     "exception": false,
     "start_time": "2022-11-06T19:01:29.028348",
     "status": "completed"
    },
    "tags": []
   },
   "source": [
    "#### To Do:\n",
    "\n",
    "* Make confusion Matrix\n",
    "* try other models"
   ]
  },
  {
   "cell_type": "markdown",
   "id": "7d719ef3",
   "metadata": {
    "papermill": {
     "duration": 0.00513,
     "end_time": "2022-11-06T19:01:29.044425",
     "exception": false,
     "start_time": "2022-11-06T19:01:29.039295",
     "status": "completed"
    },
    "tags": []
   },
   "source": [
    "# Evaluation"
   ]
  },
  {
   "cell_type": "markdown",
   "id": "41a011b7",
   "metadata": {
    "papermill": {
     "duration": 0.005128,
     "end_time": "2022-11-06T19:01:29.055038",
     "exception": false,
     "start_time": "2022-11-06T19:01:29.049910",
     "status": "completed"
    },
    "tags": []
   },
   "source": [
    "#### To Do:\n",
    "\n",
    "* evaluate best model"
   ]
  },
  {
   "cell_type": "markdown",
   "id": "8f9ba367",
   "metadata": {
    "papermill": {
     "duration": 0.005114,
     "end_time": "2022-11-06T19:01:29.065912",
     "exception": false,
     "start_time": "2022-11-06T19:01:29.060798",
     "status": "completed"
    },
    "tags": []
   },
   "source": [
    "# Hyperparameter tuning"
   ]
  },
  {
   "cell_type": "markdown",
   "id": "0ae2c6a9",
   "metadata": {
    "papermill": {
     "duration": 0.005069,
     "end_time": "2022-11-06T19:01:29.077016",
     "exception": false,
     "start_time": "2022-11-06T19:01:29.071947",
     "status": "completed"
    },
    "tags": []
   },
   "source": [
    "#### To Do:\n",
    "* do hyperparameter tuning\n",
    "* show results"
   ]
  },
  {
   "cell_type": "markdown",
   "id": "e35c8eda",
   "metadata": {
    "papermill": {
     "duration": 0.005118,
     "end_time": "2022-11-06T19:01:29.087575",
     "exception": false,
     "start_time": "2022-11-06T19:01:29.082457",
     "status": "completed"
    },
    "tags": []
   },
   "source": [
    "# Submission"
   ]
  },
  {
   "cell_type": "code",
   "execution_count": 8,
   "id": "2ef724ae",
   "metadata": {
    "execution": {
     "iopub.execute_input": "2022-11-06T19:01:29.100243Z",
     "iopub.status.busy": "2022-11-06T19:01:29.099821Z",
     "iopub.status.idle": "2022-11-06T19:01:29.111367Z",
     "shell.execute_reply": "2022-11-06T19:01:29.109594Z"
    },
    "papermill": {
     "duration": 0.021272,
     "end_time": "2022-11-06T19:01:29.114231",
     "exception": false,
     "start_time": "2022-11-06T19:01:29.092959",
     "status": "completed"
    },
    "tags": []
   },
   "outputs": [
    {
     "name": "stdout",
     "output_type": "stream",
     "text": [
      "Your file was created\n"
     ]
    }
   ],
   "source": [
    "# Generate Output to be evaluated by kaggle\n",
    "output = pd.DataFrame({'PassengerId': test_data.PassengerId, 'Survived': rf_predictions})\n",
    "output.to_csv('submission.csv', index=False)\n",
    "print(\"Your file was created\")"
   ]
  }
 ],
 "metadata": {
  "kernelspec": {
   "display_name": "Python 3",
   "language": "python",
   "name": "python3"
  },
  "language_info": {
   "codemirror_mode": {
    "name": "ipython",
    "version": 3
   },
   "file_extension": ".py",
   "mimetype": "text/x-python",
   "name": "python",
   "nbconvert_exporter": "python",
   "pygments_lexer": "ipython3",
   "version": "3.7.12"
  },
  "papermill": {
   "default_parameters": {},
   "duration": 12.770835,
   "end_time": "2022-11-06T19:01:30.045272",
   "environment_variables": {},
   "exception": null,
   "input_path": "__notebook__.ipynb",
   "output_path": "__notebook__.ipynb",
   "parameters": {},
   "start_time": "2022-11-06T19:01:17.274437",
   "version": "2.3.4"
  }
 },
 "nbformat": 4,
 "nbformat_minor": 5
}
